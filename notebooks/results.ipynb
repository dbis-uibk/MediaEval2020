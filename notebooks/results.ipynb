{
 "cells": [
  {
   "cell_type": "code",
   "execution_count": null,
   "metadata": {},
   "outputs": [],
   "source": [
    "import copy\n",
    "import os.path\n",
    "\n",
    "import matplotlib.pyplot as plt\n",
    "import numpy as np\n",
    "import pandas as pd\n",
    "\n",
    "from dbispipeline.analytics import get_results_as_dataframe\n",
    "from mediaeval2020.analytics import extract_final_outcome\n",
    "from mediaeval2020.analytics import extract_metrics\n",
    "from mediaeval2020.analytics import plot_per_label\n",
    "from mediaeval2020.analytics import print_per_label\n",
    "\n",
    "\n",
    "results = get_results_as_dataframe(project_name='mediaeval2020')\n",
    "\n",
    "results['outcome'] = results['outcome'].apply(extract_final_outcome)\n",
    "\n",
    "outcome = []\n",
    "for _, row in results.iterrows():\n",
    "    out = copy.deepcopy(row['outcome'])\n",
    "    del out['confusion_matrix']\n",
    "    del out['average_precision_all']\n",
    "    del out['roc_auc_all']\n",
    "    out['id'] = row['id']\n",
    "    outcome.append(out)\n",
    "\n",
    "outcome = pd.DataFrame(outcome).merge(results[['id', 'sourcefile']], on=['id'])\n",
    "outcome['name'] = outcome['id'].apply(str) + ' ' + outcome['sourcefile']\n",
    "outcome[['name', 'f1_micro', 'f1_macro']].plot.bar(x='name')\n",
    "plt.show()"
   ]
  },
  {
   "cell_type": "code",
   "execution_count": null,
   "metadata": {},
   "outputs": [],
   "source": [
    "row = results[results['id'] == 480].iloc[0]\n",
    "\n",
    "data = extract_metrics(row)\n",
    "print_per_label(data.sort_values(by=['f1']))\n",
    "plt.show()\n",
    "\n",
    "display(data)"
   ]
  }
 ],
 "metadata": {
  "kernelspec": {
   "display_name": "Python 3",
   "language": "python",
   "name": "python3"
  },
  "language_info": {
   "codemirror_mode": {
    "name": "ipython",
    "version": 3
   },
   "file_extension": ".py",
   "mimetype": "text/x-python",
   "name": "python",
   "nbconvert_exporter": "python",
   "pygments_lexer": "ipython3",
   "version": "3.8.5"
  }
 },
 "nbformat": 4,
 "nbformat_minor": 4
}
