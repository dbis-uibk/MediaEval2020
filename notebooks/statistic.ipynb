{
 "cells": [
  {
   "cell_type": "markdown",
   "metadata": {},
   "source": [
    "# Analyze"
   ]
  },
  {
   "cell_type": "code",
   "execution_count": null,
   "metadata": {},
   "outputs": [],
   "source": [
    "import pickle\n",
    "import numpy as np\n",
    "import pandas as pd\n",
    "\n",
    "with open('../data/mediaeval2020/melspect_1366_labels.pickle', 'rb') as f:\n",
    "    labels = pickle.load(f)\n",
    "\n",
    "def get_label_proba(data):\n",
    "    return np.sum(data, axis=0) / data.shape[0]\n",
    "\n",
    "def get_dataset(labels):\n",
    "    return np.concatenate([\n",
    "        labels['train'],\n",
    "        labels['validate'],\n",
    "        labels['test'],\n",
    "    ])\n",
    "\n",
    "classes = [c[13:] for c in labels['config']['classes']]\n",
    "\n",
    "def get_dataframe(labels):\n",
    "    return pd.DataFrame({\n",
    "        'train': get_label_proba(labels['train']),\n",
    "        'validate': get_label_proba(labels['validate']),\n",
    "        'test': get_label_proba(labels['test']),\n",
    "        'dataset': get_label_proba(dataset),\n",
    "        'label': classes,\n",
    "    }).set_index('label')\n",
    "\n",
    "dataset = get_dataset(labels)\n",
    "df0 = get_dataframe(labels).sort_values(by='test')\n",
    "df0[[\n",
    "    'train',\n",
    "    'validate',\n",
    "#     'test',\n",
    "#     'dataset',\n",
    "]].plot.bar(title='Label Distribution', figsize=(30,8),)"
   ]
  },
  {
   "cell_type": "code",
   "execution_count": null,
   "metadata": {},
   "outputs": [],
   "source": [
    "with open('../data/mediaeval2020/melspect_augmented_1366_sampled_labels.pickle', 'rb') as f:\n",
    "    labels = pickle.load(f)\n",
    "dataset = get_dataset(labels)\n",
    "df1 = get_dataframe(labels).sort_values(by='test')\n",
    "df1[[\n",
    "    'train',\n",
    "    'validate',\n",
    "#     'test',\n",
    "#     'dataset',\n",
    "]].plot.bar(title='Label Distribution', figsize=(30,8),)"
   ]
  },
  {
   "cell_type": "code",
   "execution_count": null,
   "metadata": {},
   "outputs": [],
   "source": [
    "df01 = pd.DataFrame({\n",
    "    'plain-train': df0['train'],\n",
    "    'plain-validate': df0['validate'],\n",
    "    'plain-test': df0['test'],\n",
    "    'sampled-train': df1['train'],\n",
    "    'sampled-validate': df1['validate'],\n",
    "    'sampled-test': df1['test'],\n",
    "}).sort_values(by='plain-train')\n",
    "df01[[\n",
    "    'plain-train',\n",
    "    'sampled-train',\n",
    "#     'plain-validate',\n",
    "#     'sampled-validate',\n",
    "#     'plain-test',\n",
    "#     'sampled-test',\n",
    "]].plot.bar(title='Label Distribution', figsize=(30,8),)"
   ]
  },
  {
   "cell_type": "code",
   "execution_count": null,
   "metadata": {},
   "outputs": [],
   "source": [
    "df2 = df0 * dataset.shape[0]\n",
    "display(df2['dataset'].min(),  df2['dataset'].mean(), df2['dataset'].max(), df0['dataset'].max()/df0['dataset'].min())\n",
    "\n",
    "max_value = df2['dataset'].max() + 1\n",
    "group = 2\n",
    "bound = (max_value / (group + 1), max_value / group)\n",
    "display(df2[(df2['dataset'] >= bound[0]) & (df2['dataset'] < bound[1])]['dataset'].shape[0])\n",
    "df2[(df2['dataset'] >= bound[0]) & (df2['dataset'] < bound[1])]['dataset'].plot.bar(figsize=(30,10),)"
   ]
  },
  {
   "cell_type": "code",
   "execution_count": null,
   "metadata": {},
   "outputs": [],
   "source": [
    "df3 = pd.DataFrame(np.sum(dataset, axis=1))\n",
    "\n",
    "display(df3.describe())\n",
    "df3.plot.hist(title='Number of Labels per track', bins=7)"
   ]
  }
 ],
 "metadata": {
  "kernelspec": {
   "display_name": "Python 3",
   "language": "python",
   "name": "python3"
  },
  "language_info": {
   "codemirror_mode": {
    "name": "ipython",
    "version": 3
   },
   "file_extension": ".py",
   "mimetype": "text/x-python",
   "name": "python",
   "nbconvert_exporter": "python",
   "pygments_lexer": "ipython3",
   "version": "3.8.6"
  }
 },
 "nbformat": 4,
 "nbformat_minor": 4
}
